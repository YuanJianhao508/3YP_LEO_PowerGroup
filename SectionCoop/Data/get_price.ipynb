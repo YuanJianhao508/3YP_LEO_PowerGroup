{
 "cells": [
  {
   "cell_type": "code",
   "execution_count": 1,
   "id": "8e4c81b8-304c-4287-a117-047cbf79b077",
   "metadata": {},
   "outputs": [],
   "source": [
    "import pandas as pd\n",
    "import numpy as np"
   ]
  },
  {
   "cell_type": "code",
   "execution_count": 2,
   "id": "1a71ba88-d3c3-4b41-9a74-aeac44f91736",
   "metadata": {},
   "outputs": [],
   "source": [
    "solar = pd.read_csv('solar.csv')"
   ]
  },
  {
   "cell_type": "code",
   "execution_count": 4,
   "id": "2ddb13be-37dd-4730-8202-2cc425dab43b",
   "metadata": {},
   "outputs": [],
   "source": [
    "price = solar"
   ]
  },
  {
   "cell_type": "code",
   "execution_count": 8,
   "id": "c8c8edcf-ee04-4e46-8029-ee69fe9faf55",
   "metadata": {},
   "outputs": [],
   "source": [
    "#Import pounds/MWh\n",
    "price['pimp'] = 0\n",
    "price['pexp'] = 0"
   ]
  },
  {
   "cell_type": "code",
   "execution_count": 28,
   "id": "e7a347dc-641d-4ec4-8070-d458fb7a4782",
   "metadata": {},
   "outputs": [
    {
     "name": "stderr",
     "output_type": "stream",
     "text": [
      "<ipython-input-28-2d2799b368ee>:8: SettingWithCopyWarning: \n",
      "A value is trying to be set on a copy of a slice from a DataFrame\n",
      "\n",
      "See the caveats in the documentation: https://pandas.pydata.org/pandas-docs/stable/user_guide/indexing.html#returning-a-view-versus-a-copy\n",
      "  price['pimp'][i] = 105.8\n",
      "<ipython-input-28-2d2799b368ee>:4: SettingWithCopyWarning: \n",
      "A value is trying to be set on a copy of a slice from a DataFrame\n",
      "\n",
      "See the caveats in the documentation: https://pandas.pydata.org/pandas-docs/stable/user_guide/indexing.html#returning-a-view-versus-a-copy\n",
      "  price['pimp'][i] = 56.1\n",
      "<ipython-input-28-2d2799b368ee>:6: SettingWithCopyWarning: \n",
      "A value is trying to be set on a copy of a slice from a DataFrame\n",
      "\n",
      "See the caveats in the documentation: https://pandas.pydata.org/pandas-docs/stable/user_guide/indexing.html#returning-a-view-versus-a-copy\n",
      "  price['pimp'][i] = 63.3\n"
     ]
    }
   ],
   "source": [
    "for i in range(len(price['Datetime'])):\n",
    "    k = int(price['Datetime'][i][-8:-6])\n",
    "    if k >= 7 and k < 16:\n",
    "        price['pimp'][i] = 56.1\n",
    "    elif k >= 16 and k < 22:\n",
    "        price['pimp'][i] = 63.3\n",
    "    elif k >= 22 or k < 7:\n",
    "        price['pimp'][i] = 105.8"
   ]
  },
  {
   "cell_type": "code",
   "execution_count": 29,
   "id": "ebb05239-150c-4211-80ce-dbdc7dc9a286",
   "metadata": {},
   "outputs": [
    {
     "name": "stderr",
     "output_type": "stream",
     "text": [
      "<ipython-input-29-e46b84c2caa7>:8: SettingWithCopyWarning: \n",
      "A value is trying to be set on a copy of a slice from a DataFrame\n",
      "\n",
      "See the caveats in the documentation: https://pandas.pydata.org/pandas-docs/stable/user_guide/indexing.html#returning-a-view-versus-a-copy\n",
      "  price['pexp'][i] = 231\n",
      "<ipython-input-29-e46b84c2caa7>:4: SettingWithCopyWarning: \n",
      "A value is trying to be set on a copy of a slice from a DataFrame\n",
      "\n",
      "See the caveats in the documentation: https://pandas.pydata.org/pandas-docs/stable/user_guide/indexing.html#returning-a-view-versus-a-copy\n",
      "  price['pexp'][i] = 105\n",
      "<ipython-input-29-e46b84c2caa7>:6: SettingWithCopyWarning: \n",
      "A value is trying to be set on a copy of a slice from a DataFrame\n",
      "\n",
      "See the caveats in the documentation: https://pandas.pydata.org/pandas-docs/stable/user_guide/indexing.html#returning-a-view-versus-a-copy\n",
      "  price['pexp'][i] = 142\n"
     ]
    }
   ],
   "source": [
    "for i in range(len(price['Datetime'])):\n",
    "    k = int(price['Datetime'][i][-8:-6])\n",
    "    if k >= 7 and k < 16:\n",
    "        price['pexp'][i] = 105\n",
    "    elif k >= 16 and k < 22:\n",
    "        price['pexp'][i] = 142\n",
    "    elif k >= 22 or k < 7:\n",
    "        price['pexp'][i] = 231\n"
   ]
  },
  {
   "cell_type": "code",
   "execution_count": 26,
   "id": "8e62e1a7-6554-47ea-9c9a-e53a6b56702a",
   "metadata": {},
   "outputs": [],
   "source": [
    "price.drop(columns=['Power (MW)'],inplace=True)"
   ]
  },
  {
   "cell_type": "code",
   "execution_count": 30,
   "id": "a4e331a8-6453-4254-afc8-91b70d46ba10",
   "metadata": {},
   "outputs": [
    {
     "data": {
      "text/html": [
       "<div>\n",
       "<style scoped>\n",
       "    .dataframe tbody tr th:only-of-type {\n",
       "        vertical-align: middle;\n",
       "    }\n",
       "\n",
       "    .dataframe tbody tr th {\n",
       "        vertical-align: top;\n",
       "    }\n",
       "\n",
       "    .dataframe thead th {\n",
       "        text-align: right;\n",
       "    }\n",
       "</style>\n",
       "<table border=\"1\" class=\"dataframe\">\n",
       "  <thead>\n",
       "    <tr style=\"text-align: right;\">\n",
       "      <th></th>\n",
       "      <th>Datetime</th>\n",
       "      <th>pimp</th>\n",
       "      <th>pexp</th>\n",
       "    </tr>\n",
       "  </thead>\n",
       "  <tbody>\n",
       "    <tr>\n",
       "      <th>0</th>\n",
       "      <td>2019-01-01 00:00:00</td>\n",
       "      <td>105</td>\n",
       "      <td>231</td>\n",
       "    </tr>\n",
       "    <tr>\n",
       "      <th>1</th>\n",
       "      <td>2019-01-01 00:30:00</td>\n",
       "      <td>105</td>\n",
       "      <td>231</td>\n",
       "    </tr>\n",
       "    <tr>\n",
       "      <th>2</th>\n",
       "      <td>2019-01-01 01:00:00</td>\n",
       "      <td>105</td>\n",
       "      <td>231</td>\n",
       "    </tr>\n",
       "    <tr>\n",
       "      <th>3</th>\n",
       "      <td>2019-01-01 01:30:00</td>\n",
       "      <td>105</td>\n",
       "      <td>231</td>\n",
       "    </tr>\n",
       "    <tr>\n",
       "      <th>4</th>\n",
       "      <td>2019-01-01 02:00:00</td>\n",
       "      <td>105</td>\n",
       "      <td>231</td>\n",
       "    </tr>\n",
       "    <tr>\n",
       "      <th>...</th>\n",
       "      <td>...</td>\n",
       "      <td>...</td>\n",
       "      <td>...</td>\n",
       "    </tr>\n",
       "    <tr>\n",
       "      <th>17514</th>\n",
       "      <td>2019-12-31 21:00:00</td>\n",
       "      <td>63</td>\n",
       "      <td>142</td>\n",
       "    </tr>\n",
       "    <tr>\n",
       "      <th>17515</th>\n",
       "      <td>2019-12-31 21:30:00</td>\n",
       "      <td>63</td>\n",
       "      <td>142</td>\n",
       "    </tr>\n",
       "    <tr>\n",
       "      <th>17516</th>\n",
       "      <td>2019-12-31 22:00:00</td>\n",
       "      <td>105</td>\n",
       "      <td>231</td>\n",
       "    </tr>\n",
       "    <tr>\n",
       "      <th>17517</th>\n",
       "      <td>2019-12-31 22:30:00</td>\n",
       "      <td>105</td>\n",
       "      <td>231</td>\n",
       "    </tr>\n",
       "    <tr>\n",
       "      <th>17518</th>\n",
       "      <td>2019-12-31 23:00:00</td>\n",
       "      <td>105</td>\n",
       "      <td>231</td>\n",
       "    </tr>\n",
       "  </tbody>\n",
       "</table>\n",
       "<p>17519 rows × 3 columns</p>\n",
       "</div>"
      ],
      "text/plain": [
       "                  Datetime  pimp  pexp\n",
       "0      2019-01-01 00:00:00   105   231\n",
       "1      2019-01-01 00:30:00   105   231\n",
       "2      2019-01-01 01:00:00   105   231\n",
       "3      2019-01-01 01:30:00   105   231\n",
       "4      2019-01-01 02:00:00   105   231\n",
       "...                    ...   ...   ...\n",
       "17514  2019-12-31 21:00:00    63   142\n",
       "17515  2019-12-31 21:30:00    63   142\n",
       "17516  2019-12-31 22:00:00   105   231\n",
       "17517  2019-12-31 22:30:00   105   231\n",
       "17518  2019-12-31 23:00:00   105   231\n",
       "\n",
       "[17519 rows x 3 columns]"
      ]
     },
     "execution_count": 30,
     "metadata": {},
     "output_type": "execute_result"
    }
   ],
   "source": [
    "price"
   ]
  },
  {
   "cell_type": "code",
   "execution_count": null,
   "id": "2384cf25-817a-4d5e-9ea9-7ce2aec31974",
   "metadata": {},
   "outputs": [],
   "source": [
    "pd.save_csv"
   ]
  }
 ],
 "metadata": {
  "kernelspec": {
   "display_name": "Python 3",
   "language": "python",
   "name": "python3"
  },
  "language_info": {
   "codemirror_mode": {
    "name": "ipython",
    "version": 3
   },
   "file_extension": ".py",
   "mimetype": "text/x-python",
   "name": "python",
   "nbconvert_exporter": "python",
   "pygments_lexer": "ipython3",
   "version": "3.8.8"
  }
 },
 "nbformat": 4,
 "nbformat_minor": 5
}
