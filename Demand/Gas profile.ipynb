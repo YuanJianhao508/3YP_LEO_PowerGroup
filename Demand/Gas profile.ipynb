{
 "cells": [
  {
   "cell_type": "markdown",
   "metadata": {},
   "source": [
    "# Average profile for gas"
   ]
  },
  {
   "cell_type": "code",
   "execution_count": 2,
   "metadata": {},
   "outputs": [],
   "source": [
    "import os\n",
    "import numpy as np\n",
    "import pandas as pd\n",
    "import matplotlib.pyplot as plt\n",
    "import matplotlib.cm as cm\n",
    "import datetime\n",
    "%matplotlib inline"
   ]
  },
  {
   "cell_type": "code",
   "execution_count": 2,
   "metadata": {},
   "outputs": [],
   "source": [
    "#import csv - DONT RUN THIS\n",
    "gas = pd.read_csv('edrp_gas.csv')"
   ]
  },
  {
   "cell_type": "code",
   "execution_count": 3,
   "metadata": {},
   "outputs": [],
   "source": [
    "gas_less = gas.sample(frac=0.05).reset_index(drop=True)\n",
    "gas_less['ADVANCEDATETIME'] = pd.to_datetime(gas_less['ADVANCEDATETIME'], format = '%d%b%y:%H:%M:%S')\n",
    "gas_less.to_csv('sample_gas')"
   ]
  },
  {
   "cell_type": "code",
   "execution_count": 5,
   "metadata": {},
   "outputs": [],
   "source": [
    "\n"
   ]
  },
  {
   "cell_type": "markdown",
   "metadata": {},
   "source": [
    "Using new sampled data, 5% of the overall dataset, model an average day and then an average summer and winter day scaled to the expected demand"
   ]
  },
  {
   "cell_type": "code",
   "execution_count": 3,
   "metadata": {},
   "outputs": [],
   "source": [
    "gas = pd.read_csv('sample_gas')\n"
   ]
  },
  {
   "cell_type": "code",
   "execution_count": 4,
   "metadata": {},
   "outputs": [
    {
     "data": {
      "text/html": [
       "<div>\n",
       "<style scoped>\n",
       "    .dataframe tbody tr th:only-of-type {\n",
       "        vertical-align: middle;\n",
       "    }\n",
       "\n",
       "    .dataframe tbody tr th {\n",
       "        vertical-align: top;\n",
       "    }\n",
       "\n",
       "    .dataframe thead th {\n",
       "        text-align: right;\n",
       "    }\n",
       "</style>\n",
       "<table border=\"1\" class=\"dataframe\">\n",
       "  <thead>\n",
       "    <tr style=\"text-align: right;\">\n",
       "      <th></th>\n",
       "      <th>Unnamed: 0</th>\n",
       "      <th>ANON_ID</th>\n",
       "      <th>ADVANCEDATETIME</th>\n",
       "      <th>HH</th>\n",
       "      <th>GASKWH</th>\n",
       "    </tr>\n",
       "  </thead>\n",
       "  <tbody>\n",
       "    <tr>\n",
       "      <th>0</th>\n",
       "      <td>0</td>\n",
       "      <td>4396</td>\n",
       "      <td>2008-08-03 14:30:00</td>\n",
       "      <td>29</td>\n",
       "      <td>0.01</td>\n",
       "    </tr>\n",
       "    <tr>\n",
       "      <th>1</th>\n",
       "      <td>1</td>\n",
       "      <td>8439</td>\n",
       "      <td>2009-04-05 02:30:00</td>\n",
       "      <td>5</td>\n",
       "      <td>0.00</td>\n",
       "    </tr>\n",
       "    <tr>\n",
       "      <th>2</th>\n",
       "      <td>2</td>\n",
       "      <td>14804</td>\n",
       "      <td>2009-05-08 07:30:00</td>\n",
       "      <td>15</td>\n",
       "      <td>0.20</td>\n",
       "    </tr>\n",
       "    <tr>\n",
       "      <th>3</th>\n",
       "      <td>3</td>\n",
       "      <td>13707</td>\n",
       "      <td>2009-03-12 04:00:00</td>\n",
       "      <td>8</td>\n",
       "      <td>0.00</td>\n",
       "    </tr>\n",
       "    <tr>\n",
       "      <th>4</th>\n",
       "      <td>4</td>\n",
       "      <td>10462</td>\n",
       "      <td>2010-05-12 12:00:00</td>\n",
       "      <td>24</td>\n",
       "      <td>0.00</td>\n",
       "    </tr>\n",
       "  </tbody>\n",
       "</table>\n",
       "</div>"
      ],
      "text/plain": [
       "   Unnamed: 0  ANON_ID      ADVANCEDATETIME  HH  GASKWH\n",
       "0           0     4396  2008-08-03 14:30:00  29    0.01\n",
       "1           1     8439  2009-04-05 02:30:00   5    0.00\n",
       "2           2    14804  2009-05-08 07:30:00  15    0.20\n",
       "3           3    13707  2009-03-12 04:00:00   8    0.00\n",
       "4           4    10462  2010-05-12 12:00:00  24    0.00"
      ]
     },
     "execution_count": 4,
     "metadata": {},
     "output_type": "execute_result"
    }
   ],
   "source": [
    "gas.head()"
   ]
  },
  {
   "cell_type": "code",
   "execution_count": 5,
   "metadata": {},
   "outputs": [],
   "source": [
    "gas['ADVANCEDATETIME'] = pd.to_datetime(gas['ADVANCEDATETIME'], format = '%Y-%m-%d %H:%M:%S')\n",
    "gas['Month'] = gas['ADVANCEDATETIME'].dt.month\n",
    "gas['Time'] = gas['ADVANCEDATETIME'].dt.time"
   ]
  },
  {
   "cell_type": "code",
   "execution_count": 6,
   "metadata": {},
   "outputs": [
    {
     "data": {
      "image/png": "[encoded data removed]",
      "text/plain": [
       "<Figure size 432x288 with 1 Axes>"
      ]
     },
     "metadata": {
      "needs_background": "light"
     },
     "output_type": "display_data"
    },
    {
     "data": {
      "text/plain": [
       "47.08116073944579"
      ]
     },
     "execution_count": 6,
     "metadata": {},
     "output_type": "execute_result"
    }
   ],
   "source": [
    "#average day over all data:\n",
    "anyday = gas.groupby(pd.Grouper(key='Time')).mean()['GASKWH'].sort_index()\n",
    "time = anyday.index\n",
    "time = [x.strftime(\"%H:%M\") for x in time]\n",
    "plt.plot(time, anyday)\n",
    "plt.xticks(time[::4], fontsize=8, rotation=90)\n",
    "plt.title('Average Day Demand Profile - Heating')\n",
    "plt.xlabel('Time')\n",
    "plt.ylabel('Energy Demand /kWh')\n",
    "plt.show()\n",
    "overallkWh = anyday.sum()\n",
    "overallkWh"
   ]
  },
  {
   "cell_type": "markdown",
   "metadata": {},
   "source": [
    "The data gives an average daily usage of 47.08kWh/household. The demand figure we are using gives a 22.23kWh/household as the daily usage. Our demand has - 9.4GWh general electricity, 8.5GWh from EVs, 9.9-10.6GWh heating giving 7.36, 6.65 & 7.75-8.30 kWh/household daily respecitvely.\n",
    "Taking the heating demand as 8kWh/household daily we will scale the data by 8/47 to create the summer and winter graphs. "
   ]
  },
  {
   "cell_type": "code",
   "execution_count": 7,
   "metadata": {},
   "outputs": [],
   "source": [
    "byMonth = gas.groupby(pd.Grouper(key='Month'))\n",
    "groups = dict(list(byMonth))\n",
    "Jan = groups[1].groupby(pd.Grouper(key='Time')).mean()['GASKWH'].sort_index()\n",
    "Feb = groups[2].groupby(pd.Grouper(key='Time')).mean()['GASKWH'].sort_index()\n",
    "Mar = groups[3].groupby(pd.Grouper(key='Time')).mean()['GASKWH'].sort_index()\n",
    "Apr = groups[4].groupby(pd.Grouper(key='Time')).mean()['GASKWH'].sort_index()\n",
    "May = groups[5].groupby(pd.Grouper(key='Time')).mean()['GASKWH'].sort_index()\n",
    "June = groups[6].groupby(pd.Grouper(key='Time')).mean()['GASKWH'].sort_index()\n",
    "July = groups[7].groupby(pd.Grouper(key='Time')).mean()['GASKWH'].sort_index()\n",
    "Aug = groups[8].groupby(pd.Grouper(key='Time')).mean()['GASKWH'].sort_index()\n",
    "Sept = groups[9].groupby(pd.Grouper(key='Time')).mean()['GASKWH'].sort_index()\n",
    "Oct = groups[10].groupby(pd.Grouper(key='Time')).mean()['GASKWH'].sort_index()\n",
    "Nov = groups[11].groupby(pd.Grouper(key='Time')).mean()['GASKWH'].sort_index()\n",
    "Dec = groups[12].groupby(pd.Grouper(key='Time')).mean()['GASKWH'].sort_index()\n",
    "winter1 = pd.concat([Dec, Jan, Feb], axis=1)\n",
    "summer1 = pd.concat([June, July, Aug], axis=1)\n"
   ]
  },
  {
   "cell_type": "code",
   "execution_count": 8,
   "metadata": {},
   "outputs": [],
   "source": [
    "winter =  winter1.mean(axis=1)*8/47\n",
    "summer = summer1.mean(axis=1)*8/47"
   ]
  },
  {
   "cell_type": "code",
   "execution_count": 9,
   "metadata": {},
   "outputs": [
    {
     "data": {
      "image/png": "[encoded data removed]",
      "text/plain": [
       "<Figure size 432x288 with 1 Axes>"
      ]
     },
     "metadata": {
      "needs_background": "light"
     },
     "output_type": "display_data"
    },
    {
     "name": "stdout",
     "output_type": "stream",
     "text": [
      "Houshold demand total: Summer = 2.29 kWh/day, Winter = 16.35 kWh/day.\n"
     ]
    },
    {
     "data": {
      "text/plain": [
       "Time\n",
       "00:00:00    0.012332\n",
       "00:30:00    0.011830\n",
       "01:00:00    0.011600\n",
       "01:30:00    0.011239\n",
       "02:00:00    0.012288\n",
       "02:30:00    0.012642\n",
       "03:00:00    0.014204\n",
       "03:30:00    0.017339\n",
       "04:00:00    0.026398\n",
       "04:30:00    0.050010\n",
       "05:00:00    0.067537\n",
       "05:30:00    0.096615\n",
       "06:00:00    0.100843\n",
       "06:30:00    0.093273\n",
       "07:00:00    0.083082\n",
       "07:30:00    0.069470\n",
       "08:00:00    0.057366\n",
       "08:30:00    0.049910\n",
       "09:00:00    0.043700\n",
       "09:30:00    0.040096\n",
       "10:00:00    0.037649\n",
       "10:30:00    0.038021\n",
       "11:00:00    0.040002\n",
       "11:30:00    0.037139\n",
       "12:00:00    0.036740\n",
       "12:30:00    0.032797\n",
       "13:00:00    0.033120\n",
       "13:30:00    0.034633\n",
       "14:00:00    0.036218\n",
       "14:30:00    0.043827\n",
       "15:00:00    0.067054\n",
       "15:30:00    0.084372\n",
       "16:00:00    0.091395\n",
       "16:30:00    0.098329\n",
       "17:00:00    0.092736\n",
       "17:30:00    0.088193\n",
       "18:00:00    0.078221\n",
       "18:30:00    0.070251\n",
       "19:00:00    0.063204\n",
       "19:30:00    0.059218\n",
       "20:00:00    0.053588\n",
       "20:30:00    0.048626\n",
       "21:00:00    0.040998\n",
       "21:30:00    0.031307\n",
       "22:00:00    0.024513\n",
       "22:30:00    0.018669\n",
       "23:00:00    0.015389\n",
       "23:30:00    0.013577\n",
       "dtype: float64"
      ]
     },
     "execution_count": 9,
     "metadata": {},
     "output_type": "execute_result"
    }
   ],
   "source": [
    "plt.plot(time, summer, time, winter)\n",
    "plt.xticks(time[::4], fontsize=8, rotation=90)\n",
    "plt.legend(['Summer', 'Winter'])\n",
    "plt.title('Daily Demand Profile - Heating')\n",
    "plt.xlabel('Time')\n",
    "plt.ylabel('Energy Demand /kWh')\n",
    "plt.show()\n",
    "summerkWh = summer.sum()\n",
    "winterkWh = winter.sum()\n",
    "print('Houshold demand total: Summer = %.2f kWh/day, Winter = %.2f kWh/day.' % (summerkWh, winterkWh))\n",
    "summer"
   ]
  },
  {
   "cell_type": "code",
   "execution_count": null,
   "metadata": {},
   "outputs": [],
   "source": []
  }
 ],
 "metadata": {
  "kernelspec": {
   "display_name": "Python 3",
   "language": "python",
   "name": "python3"
  },
  "language_info": {
   "codemirror_mode": {
    "name": "ipython",
    "version": 3
   },
   "file_extension": ".py",
   "mimetype": "text/x-python",
   "name": "python",
   "nbconvert_exporter": "python",
   "pygments_lexer": "ipython3",
   "version": "3.8.5"
  }
 },
 "nbformat": 4,
 "nbformat_minor": 4
}
