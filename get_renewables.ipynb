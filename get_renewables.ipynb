{
 "cells": [
  {
   "cell_type": "code",
   "execution_count": 8,
   "id": "3276a047-8f3f-4ec5-b3fc-ae0e08a30700",
   "metadata": {
    "tags": []
   },
   "outputs": [],
   "source": [
    "import requests\n",
    "import pandas as pd\n",
    "import json\n",
    "from tqdm import tqdm\n",
    "#Toekn\n",
    "token = 'f00567baddd7638e5d547616255bfd69896297c5'"
   ]
  },
  {
   "cell_type": "code",
   "execution_count": 9,
   "id": "746f334c-a9a9-414f-a64f-c7c13ac94fe3",
   "metadata": {},
   "outputs": [],
   "source": [
    "### Utils\n",
    "#Get multiple year data\n",
    "def post_data_generator(start,end):\n",
    "    if start >= end: return False\n",
    "    date_from,date_to = [],[]\n",
    "    for i in range(end-start+1):\n",
    "        date_from.append(str(start+i)+'-01-01')\n",
    "        date_to.append(str(start+i)+'-12-31')\n",
    "    return date_from,date_to\n",
    "\n",
    "#Post to get Data\n",
    "def post_and_process(url,args,token):\n",
    "    s = requests.session()\n",
    "    s.headers = {'Authorization': 'Token ' + token}\n",
    "    r = s.get(url, params=args)\n",
    "    parsed_response = json.loads(r.text)\n",
    "    data = pd.read_json(json.dumps(parsed_response['data']), orient='index')\n",
    "    metadata = parsed_response['metadata']\n",
    "    return data,metadata"
   ]
  },
  {
   "cell_type": "code",
   "execution_count": null,
   "id": "54473986-95e8-4082-a770-b143bf8781a6",
   "metadata": {},
   "outputs": [
    {
     "name": "stderr",
     "output_type": "stream",
     "text": [
      "  0%|                                                                                            | 0/6 [00:00<?, ?it/s]"
     ]
    }
   ],
   "source": [
    "#Prepare request\n",
    "api_base = 'https://www.renewables.ninja/api/'\n",
    "url = api_base + 'data/pv'\n",
    "date_from,date_to = post_data_generator(2001,2006)\n",
    "df = pd.DataFrame(['start'],columns=['electricity'])\n",
    "for i in tqdm(range(len(date_from))):\n",
    "    try:\n",
    "        args = {\n",
    "            'lat': 51.6563,\n",
    "            'lon': -1.2551,\n",
    "            'date_from': date_from[i],\n",
    "            'date_to': date_to[i],\n",
    "            'dataset': 'merra2',\n",
    "            'capacity': 1.0,\n",
    "            'system_loss': 0.1,\n",
    "            'tracking': 0,\n",
    "            'tilt': 35,\n",
    "            'azim': 180,\n",
    "            'format': 'json'\n",
    "        }\n",
    "        data,metadata = post_and_process(url,args,token)\n",
    "        df = pd.concat([df, data])\n",
    "    except:\n",
    "        print('fail to get data for {s} to {e}'.format(s=date_from[i],e=date_to[i]))"
   ]
  },
  {
   "cell_type": "code",
   "execution_count": 74,
   "id": "b80214aa-3427-497f-af8a-9932c7751418",
   "metadata": {},
   "outputs": [
    {
     "data": {
      "text/html": [
       "<div>\n",
       "<style scoped>\n",
       "    .dataframe tbody tr th:only-of-type {\n",
       "        vertical-align: middle;\n",
       "    }\n",
       "\n",
       "    .dataframe tbody tr th {\n",
       "        vertical-align: top;\n",
       "    }\n",
       "\n",
       "    .dataframe thead th {\n",
       "        text-align: right;\n",
       "    }\n",
       "</style>\n",
       "<table border=\"1\" class=\"dataframe\">\n",
       "  <thead>\n",
       "    <tr style=\"text-align: right;\">\n",
       "      <th></th>\n",
       "      <th>electricity</th>\n",
       "    </tr>\n",
       "  </thead>\n",
       "  <tbody>\n",
       "    <tr>\n",
       "      <th>0</th>\n",
       "      <td>start</td>\n",
       "    </tr>\n",
       "    <tr>\n",
       "      <th>2001-09-09 02:00:00</th>\n",
       "      <td>0.0</td>\n",
       "    </tr>\n",
       "    <tr>\n",
       "      <th>2001-09-09 03:00:00</th>\n",
       "      <td>0.0</td>\n",
       "    </tr>\n",
       "    <tr>\n",
       "      <th>2001-09-09 04:00:00</th>\n",
       "      <td>0.0</td>\n",
       "    </tr>\n",
       "    <tr>\n",
       "      <th>2001-09-09 05:00:00</th>\n",
       "      <td>0.0</td>\n",
       "    </tr>\n",
       "    <tr>\n",
       "      <th>...</th>\n",
       "      <td>...</td>\n",
       "    </tr>\n",
       "    <tr>\n",
       "      <th>2006-12-31 19:00:00</th>\n",
       "      <td>0.0</td>\n",
       "    </tr>\n",
       "    <tr>\n",
       "      <th>2006-12-31 20:00:00</th>\n",
       "      <td>0.0</td>\n",
       "    </tr>\n",
       "    <tr>\n",
       "      <th>2006-12-31 21:00:00</th>\n",
       "      <td>0.0</td>\n",
       "    </tr>\n",
       "    <tr>\n",
       "      <th>2006-12-31 22:00:00</th>\n",
       "      <td>0.0</td>\n",
       "    </tr>\n",
       "    <tr>\n",
       "      <th>2006-12-31 23:00:00</th>\n",
       "      <td>0.0</td>\n",
       "    </tr>\n",
       "  </tbody>\n",
       "</table>\n",
       "<p>52585 rows × 1 columns</p>\n",
       "</div>"
      ],
      "text/plain": [
       "                    electricity\n",
       "0                         start\n",
       "2001-09-09 02:00:00         0.0\n",
       "2001-09-09 03:00:00         0.0\n",
       "2001-09-09 04:00:00         0.0\n",
       "2001-09-09 05:00:00         0.0\n",
       "...                         ...\n",
       "2006-12-31 19:00:00         0.0\n",
       "2006-12-31 20:00:00         0.0\n",
       "2006-12-31 21:00:00         0.0\n",
       "2006-12-31 22:00:00         0.0\n",
       "2006-12-31 23:00:00         0.0\n",
       "\n",
       "[52585 rows x 1 columns]"
      ]
     },
     "execution_count": 74,
     "metadata": {},
     "output_type": "execute_result"
    }
   ],
   "source": [
    "df"
   ]
  },
  {
   "cell_type": "code",
   "execution_count": null,
   "id": "431ee9ba-b7ad-47d0-8941-f8a05ceea7ba",
   "metadata": {},
   "outputs": [],
   "source": []
  }
 ],
 "metadata": {
  "kernelspec": {
   "display_name": "Python 3",
   "language": "python",
   "name": "python3"
  },
  "language_info": {
   "codemirror_mode": {
    "name": "ipython",
    "version": 3
   },
   "file_extension": ".py",
   "mimetype": "text/x-python",
   "name": "python",
   "nbconvert_exporter": "python",
   "pygments_lexer": "ipython3",
   "version": "3.8.8"
  }
 },
 "nbformat": 4,
 "nbformat_minor": 5
}
